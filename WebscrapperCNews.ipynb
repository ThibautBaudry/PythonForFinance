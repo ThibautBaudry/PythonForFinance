{
 "cells": [
  {
   "cell_type": "code",
   "execution_count": 1,
   "metadata": {},
   "outputs": [],
   "source": [
    "import requests\n",
    "from bs4 import BeautifulSoup\n",
    "import numpy as np\n",
    "import pandas as pd\n",
    "import re\n",
    "import time\n",
    "import bs4 as bs\n",
    "import urllib.request\n",
    "import nltk\n",
    "import heapq\n",
    "import re"
   ]
  },
  {
   "cell_type": "code",
   "execution_count": 2,
   "metadata": {},
   "outputs": [],
   "source": [
    "# url definition\n",
    "url = \"https://www.cnews.fr\""
   ]
  },
  {
   "cell_type": "code",
   "execution_count": 3,
   "metadata": {},
   "outputs": [
    {
     "data": {
      "text/plain": [
       "27"
      ]
     },
     "execution_count": 3,
     "metadata": {},
     "output_type": "execute_result"
    }
   ],
   "source": [
    "# Request\n",
    "r1 = requests.get(url)\n",
    "r1.status_code\n",
    "\n",
    "# We'll save in coverpage the cover page content\n",
    "coverpage = r1.content\n",
    "\n",
    "# Soup creation\n",
    "soup1 = BeautifulSoup(coverpage, 'html5lib')\n",
    "\n",
    "# News identification\n",
    "coverpage_news = soup1.find_all('div', class_='dm-block')\n",
    "len(coverpage_news)"
   ]
  },
  {
   "cell_type": "code",
   "execution_count": 4,
   "metadata": {},
   "outputs": [
    {
     "data": {
      "text/plain": [
       "<div class=\"dm-block dm-block-bloc_tag\"><div class=\"tag-header\"><span class=\"tag-title\"><a href=\"/coronavirus\">Coronavirus</a></span></div>\n",
       "<a href=\"/monde/2021-01-31/coronavirus-des-distributeurs-automatiques-de-tests-laeroport-doakland-1041457\">\n",
       "<div class=\"dm-blocks-item dm-blocks-tag-tiers dm_article-item\">\n",
       "<div class=\"dm-tag-image\">\n",
       "<img alt=\"\" data-echo=\"https://static.cnews.fr/sites/default/files/styles/image_200_112/public/063_1298960678_6016df2835be2_0.jpg?itok=1VUuiErq\" data-icon=\"\" height=\"112\" src=\"//static.cnews.fr/sites/default/files/directmatin/image_placeholder_rect_basic.gif\" title=\"Les résultats de ces tests salivaires peuvent être obtenus en 24 à 48h.[Michael M. Santiago / GETTY IMAGES NORTH AMERICA / Getty Images via AFP]\" width=\"200\"/><noscript><img alt=\"\" height=\"112\" src=\"https://static.cnews.fr/sites/default/files/styles/image_200_112/public/063_1298960678_6016df2835be2_0.jpg?itok=1VUuiErq\" title=\"Les résultats de ces tests salivaires peuvent être obtenus en 24 à 48h.[Michael M. Santiago / GETTY IMAGES NORTH AMERICA / Getty Images via AFP]\" width=\"200\"/></noscript> </div>\n",
       "<div class=\"dm-tag-info\">\n",
       "<span class=\"dm-tag-tag\">pandémie</span>\n",
       "<h2 class=\"dm-tag-title\">Coronavirus : des distributeurs automatiques de tests à l'aéroport d'Oakland</h2>\n",
       "</div>\n",
       "</div>\n",
       "</a>\n",
       "<a href=\"/videos/france/2021-01-31/les-francais-plutot-favorables-un-reconfinement-1041343\">\n",
       "<div class=\"dm-blocks-item dm-blocks-tag-tiers dm_video-item associated-video\">\n",
       "<div class=\"dm-tag-image\">\n",
       "<img alt=\"Les Français plutôt favorables à un reconfinement\" data-echo=\"https://static.cnews.fr/sites/default/files/styles/image_200_112/public/import_dailymotion/x7z0ocg_601686b3dac8b.jpg?itok=VPojiGGU\" data-icon=\"\" height=\"112\" src=\"//static.cnews.fr/sites/default/files/directmatin/image_placeholder_rect_basic.gif\" title=\"Les Français plutôt favorables à un reconfinement\" width=\"200\"/><noscript><img alt=\"Les Français plutôt favorables à un reconfinement\" height=\"112\" src=\"https://static.cnews.fr/sites/default/files/styles/image_200_112/public/import_dailymotion/x7z0ocg_601686b3dac8b.jpg?itok=VPojiGGU\" title=\"Les Français plutôt favorables à un reconfinement\" width=\"200\"/></noscript> </div>\n",
       "<div class=\"dm-tag-info\">\n",
       "<span class=\"dm-tag-tag\">Coronavirus</span>\n",
       "<h2 class=\"dm-tag-title\">Les Français plutôt favorables à un reconfinement</h2>\n",
       "</div>\n",
       "</div>\n",
       "</a>\n",
       "<a href=\"/culture/2021-01-31/bern-poivre-darvor-bruni-un-collectif-de-personnalites-demande-la-reouverture-des\">\n",
       "<div class=\"dm-blocks-item dm-blocks-tag-tiers dm_article-item\">\n",
       "<div class=\"dm-tag-image\">\n",
       "<img alt=\"\" data-echo=\"https://static.cnews.fr/sites/default/files/styles/image_200_112/public/000_8ye36x_6016b89cb227a_0.jpg?itok=dZR3pVEp\" data-icon=\"\" height=\"112\" src=\"//static.cnews.fr/sites/default/files/directmatin/image_placeholder_rect_basic.gif\" title=\"Les allées du Louvre, comme celles des autres musées français, sont vides depuis le 30 octobre. [Martin Bureau / AFP]\" width=\"200\"/><noscript><img alt=\"\" height=\"112\" src=\"https://static.cnews.fr/sites/default/files/styles/image_200_112/public/000_8ye36x_6016b89cb227a_0.jpg?itok=dZR3pVEp\" title=\"Les allées du Louvre, comme celles des autres musées français, sont vides depuis le 30 octobre. [Martin Bureau / AFP]\" width=\"200\"/></noscript> </div>\n",
       "<div class=\"dm-tag-info\">\n",
       "<span class=\"dm-tag-tag\">pandémie</span>\n",
       "<h2 class=\"dm-tag-title\">Bern, Poivre d'Arvor, Bruni... Un collectif de personnalités demande la réouverture des musées </h2>\n",
       "</div>\n",
       "</div>\n",
       "</a>\n",
       "</div>"
      ]
     },
     "execution_count": 4,
     "metadata": {},
     "output_type": "execute_result"
    }
   ],
   "source": [
    "coverpage_news[2]"
   ]
  },
  {
   "cell_type": "code",
   "execution_count": 5,
   "metadata": {},
   "outputs": [],
   "source": [
    "number_of_articles = 5"
   ]
  },
  {
   "cell_type": "code",
   "execution_count": 6,
   "metadata": {},
   "outputs": [],
   "source": [
    "# Empty lists for content, links and titles\n",
    "news_contents = []\n",
    "list_links = []\n",
    "list_titles = []\n",
    "\n",
    "for n in np.arange(0, number_of_articles):\n",
    "    \n",
    "    # Getting the link of the article\n",
    "    link = url + coverpage_news[n].find('a')['href']\n",
    "    list_links.append(link)\n",
    "    \n",
    "    # Getting the title\n",
    "    title = coverpage_news[n].find('h2').get_text()\n",
    "    list_titles.append(title)\n",
    "    \n",
    "    # Reading the content (it is divided in paragraphs)\n",
    "    article = requests.get(link)\n",
    "    article_content = article.content\n",
    "    soup_article = BeautifulSoup(article_content, 'html5lib')\n",
    "    body = soup_article.find_all('p')\n",
    "    \n",
    "    # Unifying the paragraphs\n",
    "    list_paragraphs = []\n",
    "    for p in np.arange(0, len(body)):\n",
    "        paragraph = body[p].get_text()\n",
    "        list_paragraphs.append(paragraph)\n",
    "        final_article = \" \".join(list_paragraphs)\n",
    "        \n",
    "    # Removing special characters\n",
    "    final_article = re.sub(\"\\\\xa0\", \"\", final_article)\n",
    "        \n",
    "    news_contents.append(final_article)"
   ]
  },
  {
   "cell_type": "code",
   "execution_count": 7,
   "metadata": {},
   "outputs": [],
   "source": [
    "# df_features\n",
    "df_features = pd.DataFrame(\n",
    "     {'Article Content': news_contents \n",
    "    })\n",
    "\n",
    "# df_show_info\n",
    "df_show_info = pd.DataFrame(\n",
    "    {'Article Title': list_titles, 'Article Link': list_links})"
   ]
  },
  {
   "cell_type": "code",
   "execution_count": 8,
   "metadata": {},
   "outputs": [
    {
     "data": {
      "text/html": [
       "<div>\n",
       "<style scoped>\n",
       "    .dataframe tbody tr th:only-of-type {\n",
       "        vertical-align: middle;\n",
       "    }\n",
       "\n",
       "    .dataframe tbody tr th {\n",
       "        vertical-align: top;\n",
       "    }\n",
       "\n",
       "    .dataframe thead th {\n",
       "        text-align: right;\n",
       "    }\n",
       "</style>\n",
       "<table border=\"1\" class=\"dataframe\">\n",
       "  <thead>\n",
       "    <tr style=\"text-align: right;\">\n",
       "      <th></th>\n",
       "      <th>Article Content</th>\n",
       "    </tr>\n",
       "  </thead>\n",
       "  <tbody>\n",
       "    <tr>\n",
       "      <th>0</th>\n",
       "      <td>Alors que le nombre de malades du Covid-19 en ...</td>\n",
       "    </tr>\n",
       "    <tr>\n",
       "      <th>1</th>\n",
       "      <td>Alors que la perspective d'un reconfinement im...</td>\n",
       "    </tr>\n",
       "    <tr>\n",
       "      <th>2</th>\n",
       "      <td>On sait en effet que le SARS-CoV-2 appartient ...</td>\n",
       "    </tr>\n",
       "    <tr>\n",
       "      <th>3</th>\n",
       "      <td>Le trotteur français Face Time Bourbon, parti ...</td>\n",
       "    </tr>\n",
       "    <tr>\n",
       "      <th>4</th>\n",
       "      <td>L'équipe de France a terminé à la 4e place du ...</td>\n",
       "    </tr>\n",
       "  </tbody>\n",
       "</table>\n",
       "</div>"
      ],
      "text/plain": [
       "                                     Article Content\n",
       "0  Alors que le nombre de malades du Covid-19 en ...\n",
       "1  Alors que la perspective d'un reconfinement im...\n",
       "2  On sait en effet que le SARS-CoV-2 appartient ...\n",
       "3  Le trotteur français Face Time Bourbon, parti ...\n",
       "4  L'équipe de France a terminé à la 4e place du ..."
      ]
     },
     "execution_count": 8,
     "metadata": {},
     "output_type": "execute_result"
    }
   ],
   "source": [
    "df_features"
   ]
  },
  {
   "cell_type": "code",
   "execution_count": 9,
   "metadata": {},
   "outputs": [
    {
     "data": {
      "text/html": [
       "<div>\n",
       "<style scoped>\n",
       "    .dataframe tbody tr th:only-of-type {\n",
       "        vertical-align: middle;\n",
       "    }\n",
       "\n",
       "    .dataframe tbody tr th {\n",
       "        vertical-align: top;\n",
       "    }\n",
       "\n",
       "    .dataframe thead th {\n",
       "        text-align: right;\n",
       "    }\n",
       "</style>\n",
       "<table border=\"1\" class=\"dataframe\">\n",
       "  <thead>\n",
       "    <tr style=\"text-align: right;\">\n",
       "      <th></th>\n",
       "      <th>Article Title</th>\n",
       "      <th>Article Link</th>\n",
       "    </tr>\n",
       "  </thead>\n",
       "  <tbody>\n",
       "    <tr>\n",
       "      <th>0</th>\n",
       "      <td>DIRECT - Coronavirus : Olivier Véran espère «p...</td>\n",
       "      <td>https://www.cnews.fr/france/2021-01-31/direct-...</td>\n",
       "    </tr>\n",
       "    <tr>\n",
       "      <th>1</th>\n",
       "      <td>Reconfinement : quelles pourraient être les pr...</td>\n",
       "      <td>https://www.cnews.fr/france/2021-01-31/reconfi...</td>\n",
       "    </tr>\n",
       "    <tr>\n",
       "      <th>2</th>\n",
       "      <td>Coronavirus : des distributeurs automatiques d...</td>\n",
       "      <td>https://www.cnews.fr/coronavirus</td>\n",
       "    </tr>\n",
       "    <tr>\n",
       "      <th>3</th>\n",
       "      <td>Le trotteur français Face Time Bourbon remport...</td>\n",
       "      <td>https://www.cnews.fr/sport/2021-01-31/le-trott...</td>\n",
       "    </tr>\n",
       "    <tr>\n",
       "      <th>4</th>\n",
       "      <td>Mondial de hand 2021 : Les Bleus finissent au ...</td>\n",
       "      <td>https://www.cnews.fr/sport/2021-01-31/mondial-...</td>\n",
       "    </tr>\n",
       "  </tbody>\n",
       "</table>\n",
       "</div>"
      ],
      "text/plain": [
       "                                       Article Title  \\\n",
       "0  DIRECT - Coronavirus : Olivier Véran espère «p...   \n",
       "1  Reconfinement : quelles pourraient être les pr...   \n",
       "2  Coronavirus : des distributeurs automatiques d...   \n",
       "3  Le trotteur français Face Time Bourbon remport...   \n",
       "4  Mondial de hand 2021 : Les Bleus finissent au ...   \n",
       "\n",
       "                                        Article Link  \n",
       "0  https://www.cnews.fr/france/2021-01-31/direct-...  \n",
       "1  https://www.cnews.fr/france/2021-01-31/reconfi...  \n",
       "2                   https://www.cnews.fr/coronavirus  \n",
       "3  https://www.cnews.fr/sport/2021-01-31/le-trott...  \n",
       "4  https://www.cnews.fr/sport/2021-01-31/mondial-...  "
      ]
     },
     "execution_count": 9,
     "metadata": {},
     "output_type": "execute_result"
    }
   ],
   "source": [
    "df_show_info"
   ]
  },
  {
   "cell_type": "code",
   "execution_count": 17,
   "metadata": {},
   "outputs": [],
   "source": []
  },
  {
   "cell_type": "code",
   "execution_count": null,
   "metadata": {},
   "outputs": [],
   "source": []
  },
  {
   "cell_type": "code",
   "execution_count": null,
   "metadata": {},
   "outputs": [],
   "source": []
  },
  {
   "cell_type": "code",
   "execution_count": null,
   "metadata": {},
   "outputs": [],
   "source": []
  },
  {
   "cell_type": "code",
   "execution_count": null,
   "metadata": {},
   "outputs": [],
   "source": []
  },
  {
   "cell_type": "code",
   "execution_count": null,
   "metadata": {},
   "outputs": [],
   "source": []
  },
  {
   "cell_type": "code",
   "execution_count": null,
   "metadata": {},
   "outputs": [],
   "source": []
  },
  {
   "cell_type": "code",
   "execution_count": null,
   "metadata": {},
   "outputs": [],
   "source": []
  },
  {
   "cell_type": "code",
   "execution_count": null,
   "metadata": {},
   "outputs": [],
   "source": []
  },
  {
   "cell_type": "code",
   "execution_count": null,
   "metadata": {},
   "outputs": [],
   "source": []
  },
  {
   "cell_type": "code",
   "execution_count": null,
   "metadata": {},
   "outputs": [],
   "source": []
  },
  {
   "cell_type": "code",
   "execution_count": null,
   "metadata": {},
   "outputs": [],
   "source": []
  },
  {
   "cell_type": "code",
   "execution_count": null,
   "metadata": {},
   "outputs": [],
   "source": []
  }
 ],
 "metadata": {
  "kernelspec": {
   "display_name": "Python 3",
   "language": "python",
   "name": "python3"
  },
  "language_info": {
   "codemirror_mode": {
    "name": "ipython",
    "version": 3
   },
   "file_extension": ".py",
   "mimetype": "text/x-python",
   "name": "python",
   "nbconvert_exporter": "python",
   "pygments_lexer": "ipython3",
   "version": "3.8.3"
  }
 },
 "nbformat": 4,
 "nbformat_minor": 4
}
